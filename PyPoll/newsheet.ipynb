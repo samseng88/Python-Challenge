{
 "cells": [
  {
   "cell_type": "code",
   "execution_count": 3,
   "metadata": {},
   "outputs": [],
   "source": [
    "import os\n",
    "import csv\n",
    "\n",
    "# Set path for file\n",
    "csvpath = os.path.join('Resources', 'budget_data.csv')\n",
    "\n",
    "# List variables\n",
    "total_months = 0\n",
    "net_total = 0\n",
    "data = []\n",
    "average_change = []\n",
    "monthly_change = 0\n",
    "greatest_increase = [\"\", 0]\n",
    "greatest_decrease = [\"\", 0]\n",
    "\n",
    "# Open the CSV and skip header\n",
    "with open(csvpath) as csvfile:\n",
    "    csvreader = csv.reader(csvfile, delimiter=\",\")\n",
    "    csv_header = next(csvreader)\n",
    "\n",
    "# Skip the header for count\n",
    "    for row in csvreader:\n",
    "    # Add the total months\n",
    "        total_months += 1\n",
    "\n",
    "# Calculate the net total Profit/Lossess\n",
    "        net_total = int(net_total) + int(row[1])\n",
    "\n",
    "#Put data into a list to calculate monthly change\n",
    "        data.append(row)\n",
    "        \n",
    "#Loop through the whole list and get the monthly change (next month - current month)\n",
    "#len -1 is for the avoiding inaccurate calculation for the last data\n",
    "        for i in range(len(data)-1):\n",
    "            average_change = int((data)[i + 1][1]) - int((data)[i][1])\n",
    "\n",
    "\n",
    "            #The average change in losses (date and amount) over the entire period\n",
    "            average_change = round((int((data)[-1][1]) - int((data)[0][1])) / (len(data)-1),2)"
   ]
  },
  {
   "cell_type": "code",
   "execution_count": 4,
   "metadata": {},
   "outputs": [
    {
     "name": "stdout",
     "output_type": "stream",
     "text": [
      "\n",
      "Financial Analysis\n",
      "\n",
      "---------------------------\n",
      "\n",
      "Total Months: 86\n",
      "\n",
      "Total: $22564198\n",
      "\n",
      "Average Change: $-8311.11\n",
      "\n",
      "Greatest Incease in Profits:  ($0)\n",
      "\n",
      "Greatest Decrease in Profits:  ($0)\n",
      "\n"
     ]
    }
   ],
   "source": [
    "# Write Output file\n",
    "output = os.path.join( \"Analysis\", \"budget_analysis.txt\")\n",
    "\n",
    "# Generate Output Summary\n",
    "print(f\"\\nFinancial Analysis\\n\")\n",
    "print(f\"---------------------------\\n\")\n",
    "print(f\"Total Months: {total_months}\\n\")\n",
    "print(f\"Total: ${net_total}\\n\")\n",
    "print(f\"Average Change: ${average_change}\\n\")\n",
    "print(f\"Greatest Incease in Profits: {greatest_increase[0]} (${greatest_increase[1]})\\n\")\n",
    "print(f\"Greatest Decrease in Profits: {greatest_decrease[0]} (${greatest_decrease[1]})\\n\")\n",
    "\n",
    "# Export a text file with the results to Analysis folder\n",
    "with open(output, \"w\") as results:\n",
    "        results.write(\"\\n\\nFinancial Analysis\\n\")\n",
    "        results.write(\"----------------------------\\n\")\n",
    "        results.write(f\"Total Months:  {total_months}\\n\")\n",
    "        results.write(f\"Total:  ${net_total}\\n\")\n",
    "        results.write(f\"Average Change: ${average_change}\\n\")\n",
    "        results.write(f\"Greatest Increase in Profits: {greatest_increase[0]} (${greatest_increase[1]})\\n\")\n",
    "        results.write(f\"Greatest Decrease in Profits: {greatest_decrease[0]} (${greatest_decrease[1]})\\n\")"
   ]
  }
 ],
 "metadata": {
  "kernelspec": {
   "display_name": "Python 3.8.9 64-bit",
   "language": "python",
   "name": "python3"
  },
  "language_info": {
   "codemirror_mode": {
    "name": "ipython",
    "version": 3
   },
   "file_extension": ".py",
   "mimetype": "text/x-python",
   "name": "python",
   "nbconvert_exporter": "python",
   "pygments_lexer": "ipython3",
   "version": "3.8.9"
  },
  "orig_nbformat": 4,
  "vscode": {
   "interpreter": {
    "hash": "31f2aee4e71d21fbe5cf8b01ff0e069b9275f58929596ceb00d14d90e3e16cd6"
   }
  }
 },
 "nbformat": 4,
 "nbformat_minor": 2
}
