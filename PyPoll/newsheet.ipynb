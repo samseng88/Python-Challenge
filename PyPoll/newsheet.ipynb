{
 "cells": [
  {
   "cell_type": "code",
   "execution_count": 2,
   "metadata": {},
   "outputs": [
    {
     "ename": "FileNotFoundError",
     "evalue": "[Errno 2] No such file or directory: 'Resources/budget_data.csv'",
     "output_type": "error",
     "traceback": [
      "\u001b[0;31m---------------------------------------------------------------------------\u001b[0m",
      "\u001b[0;31mFileNotFoundError\u001b[0m                         Traceback (most recent call last)",
      "\u001b[1;32m/Users/samanthaseng/Documents/DataClass/Homework/Python-Challenge-Homework/PyPoll/newsheet.ipynb Cell 1\u001b[0m in \u001b[0;36m<cell line: 17>\u001b[0;34m()\u001b[0m\n\u001b[1;32m     <a href='vscode-notebook-cell:/Users/samanthaseng/Documents/DataClass/Homework/Python-Challenge-Homework/PyPoll/newsheet.ipynb#ch0000000?line=13'>14</a>\u001b[0m greatest_decrease \u001b[39m=\u001b[39m [\u001b[39m\"\u001b[39m\u001b[39m\"\u001b[39m, \u001b[39m0\u001b[39m]\n\u001b[1;32m     <a href='vscode-notebook-cell:/Users/samanthaseng/Documents/DataClass/Homework/Python-Challenge-Homework/PyPoll/newsheet.ipynb#ch0000000?line=15'>16</a>\u001b[0m \u001b[39m# Open the CSV and skip header\u001b[39;00m\n\u001b[0;32m---> <a href='vscode-notebook-cell:/Users/samanthaseng/Documents/DataClass/Homework/Python-Challenge-Homework/PyPoll/newsheet.ipynb#ch0000000?line=16'>17</a>\u001b[0m \u001b[39mwith\u001b[39;00m \u001b[39mopen\u001b[39;49m(csvpath) \u001b[39mas\u001b[39;00m csvfile:\n\u001b[1;32m     <a href='vscode-notebook-cell:/Users/samanthaseng/Documents/DataClass/Homework/Python-Challenge-Homework/PyPoll/newsheet.ipynb#ch0000000?line=17'>18</a>\u001b[0m     csvreader \u001b[39m=\u001b[39m csv\u001b[39m.\u001b[39mreader(csvfile, delimiter\u001b[39m=\u001b[39m\u001b[39m\"\u001b[39m\u001b[39m,\u001b[39m\u001b[39m\"\u001b[39m)\n\u001b[1;32m     <a href='vscode-notebook-cell:/Users/samanthaseng/Documents/DataClass/Homework/Python-Challenge-Homework/PyPoll/newsheet.ipynb#ch0000000?line=18'>19</a>\u001b[0m     csv_header \u001b[39m=\u001b[39m \u001b[39mnext\u001b[39m(csvreader)\n",
      "\u001b[0;31mFileNotFoundError\u001b[0m: [Errno 2] No such file or directory: 'Resources/budget_data.csv'"
     ]
    }
   ],
   "source": [
    "import os\n",
    "import csv\n",
    "\n",
    "# Set path for file\n",
    "csvpath = os.path.join('Resources', 'budget_data.csv')\n",
    "\n",
    "# List variables\n",
    "total_months = 0\n",
    "net_total = 0\n",
    "data = []\n",
    "average_change = []\n",
    "monthly_change = 0\n",
    "greatest_increase = [\"\", 0]\n",
    "greatest_decrease = [\"\", 0]\n",
    "\n",
    "# Open the CSV and skip header\n",
    "with open(csvpath) as csvfile:\n",
    "    csvreader = csv.reader(csvfile, delimiter=\",\")\n",
    "    csv_header = next(csvreader)\n",
    "\n",
    "# Skip the header for count\n",
    "    for row in csvreader:\n",
    "    # Add the total months\n",
    "        total_months += 1\n",
    "\n",
    "# Calculate the net total Profit/Lossess\n",
    "        net_total = int(net_total) + int(row[1])\n",
    "\n",
    "#Put data into a list to calculate monthly change\n",
    "        data.append(row)\n",
    "        \n",
    "#Loop through the whole list and get the monthly change (next month - current month)\n",
    "#len -1 is for the avoiding inaccurate calculation for the last data\n",
    "        for i in range(len(data)-1):\n",
    "            average_change = int((data)[i + 1][1]) - int((data)[i][1])\n",
    "\n",
    "\n",
    "            #The average change in losses (date and amount) over the entire period\n",
    "            average_change = round((int((data)[-1][1]) - int((data)[0][1])) / (len(data)-1),2)"
   ]
  },
  {
   "cell_type": "code",
   "execution_count": 1,
   "metadata": {},
   "outputs": [
    {
     "name": "stdout",
     "output_type": "stream",
     "text": [
      "\n",
      "Financial Analysis\n",
      "\n",
      "---------------------------\n",
      "\n"
     ]
    },
    {
     "ename": "NameError",
     "evalue": "name 'total_months' is not defined",
     "output_type": "error",
     "traceback": [
      "\u001b[0;31m---------------------------------------------------------------------------\u001b[0m",
      "\u001b[0;31mNameError\u001b[0m                                 Traceback (most recent call last)",
      "\u001b[1;32m/Users/samanthaseng/Documents/DataClass/Homework/Python-Challenge-Homework/PyPoll/newsheet.ipynb Cell 2\u001b[0m in \u001b[0;36m<cell line: 7>\u001b[0;34m()\u001b[0m\n\u001b[1;32m      <a href='vscode-notebook-cell:/Users/samanthaseng/Documents/DataClass/Homework/Python-Challenge-Homework/PyPoll/newsheet.ipynb#ch0000001?line=4'>5</a>\u001b[0m \u001b[39mprint\u001b[39m(\u001b[39mf\u001b[39m\u001b[39m\"\u001b[39m\u001b[39m\\n\u001b[39;00m\u001b[39mFinancial Analysis\u001b[39m\u001b[39m\\n\u001b[39;00m\u001b[39m\"\u001b[39m)\n\u001b[1;32m      <a href='vscode-notebook-cell:/Users/samanthaseng/Documents/DataClass/Homework/Python-Challenge-Homework/PyPoll/newsheet.ipynb#ch0000001?line=5'>6</a>\u001b[0m \u001b[39mprint\u001b[39m(\u001b[39mf\u001b[39m\u001b[39m\"\u001b[39m\u001b[39m---------------------------\u001b[39m\u001b[39m\\n\u001b[39;00m\u001b[39m\"\u001b[39m)\n\u001b[0;32m----> <a href='vscode-notebook-cell:/Users/samanthaseng/Documents/DataClass/Homework/Python-Challenge-Homework/PyPoll/newsheet.ipynb#ch0000001?line=6'>7</a>\u001b[0m \u001b[39mprint\u001b[39m(\u001b[39mf\u001b[39m\u001b[39m\"\u001b[39m\u001b[39mTotal Months: \u001b[39m\u001b[39m{\u001b[39;00mtotal_months\u001b[39m}\u001b[39;00m\u001b[39m\\n\u001b[39;00m\u001b[39m\"\u001b[39m)\n\u001b[1;32m      <a href='vscode-notebook-cell:/Users/samanthaseng/Documents/DataClass/Homework/Python-Challenge-Homework/PyPoll/newsheet.ipynb#ch0000001?line=7'>8</a>\u001b[0m \u001b[39mprint\u001b[39m(\u001b[39mf\u001b[39m\u001b[39m\"\u001b[39m\u001b[39mTotal: $\u001b[39m\u001b[39m{\u001b[39;00mnet_total\u001b[39m}\u001b[39;00m\u001b[39m\\n\u001b[39;00m\u001b[39m\"\u001b[39m)\n\u001b[1;32m      <a href='vscode-notebook-cell:/Users/samanthaseng/Documents/DataClass/Homework/Python-Challenge-Homework/PyPoll/newsheet.ipynb#ch0000001?line=8'>9</a>\u001b[0m \u001b[39mprint\u001b[39m(\u001b[39mf\u001b[39m\u001b[39m\"\u001b[39m\u001b[39mAverage Change: $\u001b[39m\u001b[39m{\u001b[39;00maverage_change\u001b[39m}\u001b[39;00m\u001b[39m\\n\u001b[39;00m\u001b[39m\"\u001b[39m)\n",
      "\u001b[0;31mNameError\u001b[0m: name 'total_months' is not defined"
     ]
    }
   ],
   "source": [
    "# Write Output file\n",
    "output = os.path.join( \"Analysis\", \"budget_analysis.txt\")\n",
    "\n",
    "# Generate Output Summary\n",
    "print(f\"\\nFinancial Analysis\\n\")\n",
    "print(f\"---------------------------\\n\")\n",
    "print(f\"Total Months: {total_months}\\n\")\n",
    "print(f\"Total: ${net_total}\\n\")\n",
    "print(f\"Average Change: ${average_change}\\n\")\n",
    "print(f\"Greatest Incease in Profits: {greatest_increase[0]} (${greatest_increase[1]})\\n\")\n",
    "print(f\"Greatest Decrease in Profits: {greatest_decrease[0]} (${greatest_decrease[1]})\\n\")\n",
    "\n",
    "# Export a text file with the results to Analysis folder\n",
    "with open(output, \"w\") as results:\n",
    "        writer = csv.writer(results)\n",
    "        results.write(\"\\n\\nFinancial Analysis\\n\")\n",
    "        results.write(\"----------------------------\\n\")\n",
    "        results.write(f\"Total Months:  {total_months}\\n\")\n",
    "        results.write(f\"Total:  ${net_total}\\n\")\n",
    "        results.write(f\"Average Change: ${average_change}\\n\")\n",
    "        results.write(f\"Greatest Increase in Profits: {greatest_increase[0]} (${greatest_increase[1]})\\n\")\n",
    "        results.write(f\"Greatest Decrease in Profits: {greatest_decrease[0]} (${greatest_decrease[1]})\\n\")"
   ]
  },
  {
   "cell_type": "code",
   "execution_count": null,
   "metadata": {},
   "outputs": [],
   "source": []
  }
 ],
 "metadata": {
  "kernelspec": {
   "display_name": "Python 3.8.9 64-bit",
   "language": "python",
   "name": "python3"
  },
  "language_info": {
   "codemirror_mode": {
    "name": "ipython",
    "version": 3
   },
   "file_extension": ".py",
   "mimetype": "text/x-python",
   "name": "python",
   "nbconvert_exporter": "python",
   "pygments_lexer": "ipython3",
   "version": "3.8.9"
  },
  "orig_nbformat": 4,
  "vscode": {
   "interpreter": {
    "hash": "31f2aee4e71d21fbe5cf8b01ff0e069b9275f58929596ceb00d14d90e3e16cd6"
   }
  }
 },
 "nbformat": 4,
 "nbformat_minor": 2
}
